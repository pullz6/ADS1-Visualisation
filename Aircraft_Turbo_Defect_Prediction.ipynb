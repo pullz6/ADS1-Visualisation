{
  "cells": [
    {
      "cell_type": "markdown",
      "metadata": {
        "id": "view-in-github",
        "colab_type": "text"
      },
      "source": [
        "<a href=\"https://colab.research.google.com/github/pullz6/ADS1-Visualisation/blob/main/Aircraft_Turbo_Defect_Prediction.ipynb\" target=\"_parent\"><img src=\"https://colab.research.google.com/assets/colab-badge.svg\" alt=\"Open In Colab\"/></a>"
      ]
    },
    {
      "cell_type": "code",
      "execution_count": 1,
      "metadata": {
        "colab": {
          "base_uri": "https://localhost:8080/"
        },
        "id": "gteFLDekNjSe",
        "outputId": "1388cbbf-65fc-4b7f-f4a9-3aba707486b4"
      },
      "outputs": [
        {
          "output_type": "stream",
          "name": "stdout",
          "text": [
            "Collecting img2vec_pytorch\n",
            "  Downloading img2vec_pytorch-1.0.1-py3-none-any.whl (6.9 kB)\n",
            "Requirement already satisfied: torch in /usr/local/lib/python3.10/dist-packages (from img2vec_pytorch) (2.2.1+cu121)\n",
            "Requirement already satisfied: torchvision in /usr/local/lib/python3.10/dist-packages (from img2vec_pytorch) (0.17.1+cu121)\n",
            "Requirement already satisfied: numpy in /usr/local/lib/python3.10/dist-packages (from img2vec_pytorch) (1.25.2)\n",
            "Requirement already satisfied: filelock in /usr/local/lib/python3.10/dist-packages (from torch->img2vec_pytorch) (3.13.3)\n",
            "Requirement already satisfied: typing-extensions>=4.8.0 in /usr/local/lib/python3.10/dist-packages (from torch->img2vec_pytorch) (4.10.0)\n",
            "Requirement already satisfied: sympy in /usr/local/lib/python3.10/dist-packages (from torch->img2vec_pytorch) (1.12)\n",
            "Requirement already satisfied: networkx in /usr/local/lib/python3.10/dist-packages (from torch->img2vec_pytorch) (3.2.1)\n",
            "Requirement already satisfied: jinja2 in /usr/local/lib/python3.10/dist-packages (from torch->img2vec_pytorch) (3.1.3)\n",
            "Requirement already satisfied: fsspec in /usr/local/lib/python3.10/dist-packages (from torch->img2vec_pytorch) (2023.6.0)\n",
            "Collecting nvidia-cuda-nvrtc-cu12==12.1.105 (from torch->img2vec_pytorch)\n",
            "  Downloading nvidia_cuda_nvrtc_cu12-12.1.105-py3-none-manylinux1_x86_64.whl (23.7 MB)\n",
            "\u001b[2K     \u001b[90m━━━━━━━━━━━━━━━━━━━━━━━━━━━━━━━━━━━━━━━━\u001b[0m \u001b[32m23.7/23.7 MB\u001b[0m \u001b[31m22.5 MB/s\u001b[0m eta \u001b[36m0:00:00\u001b[0m\n",
            "\u001b[?25hCollecting nvidia-cuda-runtime-cu12==12.1.105 (from torch->img2vec_pytorch)\n",
            "  Downloading nvidia_cuda_runtime_cu12-12.1.105-py3-none-manylinux1_x86_64.whl (823 kB)\n",
            "\u001b[2K     \u001b[90m━━━━━━━━━━━━━━━━━━━━━━━━━━━━━━━━━━━━━━━━\u001b[0m \u001b[32m823.6/823.6 kB\u001b[0m \u001b[31m35.4 MB/s\u001b[0m eta \u001b[36m0:00:00\u001b[0m\n",
            "\u001b[?25hCollecting nvidia-cuda-cupti-cu12==12.1.105 (from torch->img2vec_pytorch)\n",
            "  Downloading nvidia_cuda_cupti_cu12-12.1.105-py3-none-manylinux1_x86_64.whl (14.1 MB)\n",
            "\u001b[2K     \u001b[90m━━━━━━━━━━━━━━━━━━━━━━━━━━━━━━━━━━━━━━━━\u001b[0m \u001b[32m14.1/14.1 MB\u001b[0m \u001b[31m48.4 MB/s\u001b[0m eta \u001b[36m0:00:00\u001b[0m\n",
            "\u001b[?25hCollecting nvidia-cudnn-cu12==8.9.2.26 (from torch->img2vec_pytorch)\n",
            "  Downloading nvidia_cudnn_cu12-8.9.2.26-py3-none-manylinux1_x86_64.whl (731.7 MB)\n",
            "\u001b[2K     \u001b[90m━━━━━━━━━━━━━━━━━━━━━━━━━━━━━━━━━━━━━━━━\u001b[0m \u001b[32m731.7/731.7 MB\u001b[0m \u001b[31m1.3 MB/s\u001b[0m eta \u001b[36m0:00:00\u001b[0m\n",
            "\u001b[?25hCollecting nvidia-cublas-cu12==12.1.3.1 (from torch->img2vec_pytorch)\n",
            "  Downloading nvidia_cublas_cu12-12.1.3.1-py3-none-manylinux1_x86_64.whl (410.6 MB)\n",
            "\u001b[2K     \u001b[90m━━━━━━━━━━━━━━━━━━━━━━━━━━━━━━━━━━━━━━━━\u001b[0m \u001b[32m410.6/410.6 MB\u001b[0m \u001b[31m2.9 MB/s\u001b[0m eta \u001b[36m0:00:00\u001b[0m\n",
            "\u001b[?25hCollecting nvidia-cufft-cu12==11.0.2.54 (from torch->img2vec_pytorch)\n",
            "  Downloading nvidia_cufft_cu12-11.0.2.54-py3-none-manylinux1_x86_64.whl (121.6 MB)\n",
            "\u001b[2K     \u001b[90m━━━━━━━━━━━━━━━━━━━━━━━━━━━━━━━━━━━━━━━━\u001b[0m \u001b[32m121.6/121.6 MB\u001b[0m \u001b[31m8.5 MB/s\u001b[0m eta \u001b[36m0:00:00\u001b[0m\n",
            "\u001b[?25hCollecting nvidia-curand-cu12==10.3.2.106 (from torch->img2vec_pytorch)\n",
            "  Downloading nvidia_curand_cu12-10.3.2.106-py3-none-manylinux1_x86_64.whl (56.5 MB)\n",
            "\u001b[2K     \u001b[90m━━━━━━━━━━━━━━━━━━━━━━━━━━━━━━━━━━━━━━━━\u001b[0m \u001b[32m56.5/56.5 MB\u001b[0m \u001b[31m9.2 MB/s\u001b[0m eta \u001b[36m0:00:00\u001b[0m\n",
            "\u001b[?25hCollecting nvidia-cusolver-cu12==11.4.5.107 (from torch->img2vec_pytorch)\n",
            "  Downloading nvidia_cusolver_cu12-11.4.5.107-py3-none-manylinux1_x86_64.whl (124.2 MB)\n",
            "\u001b[2K     \u001b[90m━━━━━━━━━━━━━━━━━━━━━━━━━━━━━━━━━━━━━━━━\u001b[0m \u001b[32m124.2/124.2 MB\u001b[0m \u001b[31m8.4 MB/s\u001b[0m eta \u001b[36m0:00:00\u001b[0m\n",
            "\u001b[?25hCollecting nvidia-cusparse-cu12==12.1.0.106 (from torch->img2vec_pytorch)\n",
            "  Downloading nvidia_cusparse_cu12-12.1.0.106-py3-none-manylinux1_x86_64.whl (196.0 MB)\n",
            "\u001b[2K     \u001b[90m━━━━━━━━━━━━━━━━━━━━━━━━━━━━━━━━━━━━━━━━\u001b[0m \u001b[32m196.0/196.0 MB\u001b[0m \u001b[31m2.5 MB/s\u001b[0m eta \u001b[36m0:00:00\u001b[0m\n",
            "\u001b[?25hCollecting nvidia-nccl-cu12==2.19.3 (from torch->img2vec_pytorch)\n",
            "  Downloading nvidia_nccl_cu12-2.19.3-py3-none-manylinux1_x86_64.whl (166.0 MB)\n",
            "\u001b[2K     \u001b[90m━━━━━━━━━━━━━━━━━━━━━━━━━━━━━━━━━━━━━━━━\u001b[0m \u001b[32m166.0/166.0 MB\u001b[0m \u001b[31m6.9 MB/s\u001b[0m eta \u001b[36m0:00:00\u001b[0m\n",
            "\u001b[?25hCollecting nvidia-nvtx-cu12==12.1.105 (from torch->img2vec_pytorch)\n",
            "  Downloading nvidia_nvtx_cu12-12.1.105-py3-none-manylinux1_x86_64.whl (99 kB)\n",
            "\u001b[2K     \u001b[90m━━━━━━━━━━━━━━━━━━━━━━━━━━━━━━━━━━━━━━━━\u001b[0m \u001b[32m99.1/99.1 kB\u001b[0m \u001b[31m11.5 MB/s\u001b[0m eta \u001b[36m0:00:00\u001b[0m\n",
            "\u001b[?25hRequirement already satisfied: triton==2.2.0 in /usr/local/lib/python3.10/dist-packages (from torch->img2vec_pytorch) (2.2.0)\n",
            "Collecting nvidia-nvjitlink-cu12 (from nvidia-cusolver-cu12==11.4.5.107->torch->img2vec_pytorch)\n",
            "  Downloading nvidia_nvjitlink_cu12-12.4.99-py3-none-manylinux2014_x86_64.whl (21.1 MB)\n",
            "\u001b[2K     \u001b[90m━━━━━━━━━━━━━━━━━━━━━━━━━━━━━━━━━━━━━━━━\u001b[0m \u001b[32m21.1/21.1 MB\u001b[0m \u001b[31m55.9 MB/s\u001b[0m eta \u001b[36m0:00:00\u001b[0m\n",
            "\u001b[?25hRequirement already satisfied: pillow!=8.3.*,>=5.3.0 in /usr/local/lib/python3.10/dist-packages (from torchvision->img2vec_pytorch) (9.4.0)\n",
            "Requirement already satisfied: MarkupSafe>=2.0 in /usr/local/lib/python3.10/dist-packages (from jinja2->torch->img2vec_pytorch) (2.1.5)\n",
            "Requirement already satisfied: mpmath>=0.19 in /usr/local/lib/python3.10/dist-packages (from sympy->torch->img2vec_pytorch) (1.3.0)\n",
            "Installing collected packages: nvidia-nvtx-cu12, nvidia-nvjitlink-cu12, nvidia-nccl-cu12, nvidia-curand-cu12, nvidia-cufft-cu12, nvidia-cuda-runtime-cu12, nvidia-cuda-nvrtc-cu12, nvidia-cuda-cupti-cu12, nvidia-cublas-cu12, nvidia-cusparse-cu12, nvidia-cudnn-cu12, nvidia-cusolver-cu12, img2vec_pytorch\n",
            "Successfully installed img2vec_pytorch-1.0.1 nvidia-cublas-cu12-12.1.3.1 nvidia-cuda-cupti-cu12-12.1.105 nvidia-cuda-nvrtc-cu12-12.1.105 nvidia-cuda-runtime-cu12-12.1.105 nvidia-cudnn-cu12-8.9.2.26 nvidia-cufft-cu12-11.0.2.54 nvidia-curand-cu12-10.3.2.106 nvidia-cusolver-cu12-11.4.5.107 nvidia-cusparse-cu12-12.1.0.106 nvidia-nccl-cu12-2.19.3 nvidia-nvjitlink-cu12-12.4.99 nvidia-nvtx-cu12-12.1.105\n"
          ]
        }
      ],
      "source": [
        "pip install img2vec_pytorch"
      ]
    },
    {
      "cell_type": "code",
      "execution_count": 4,
      "metadata": {
        "colab": {
          "base_uri": "https://localhost:8080/"
        },
        "id": "jCSAfmgO_HZW",
        "outputId": "bdf01009-ff00-429a-8234-80e1ef9abeeb"
      },
      "outputs": [
        {
          "output_type": "stream",
          "name": "stdout",
          "text": [
            "Mounted at /content/drive\n"
          ]
        }
      ],
      "source": [
        "import pandas as pd\n",
        "from img2vec_pytorch import Img2Vec\n",
        "import numpy as np\n",
        "import tensorflow as tf\n",
        "from tensorflow import keras\n",
        "import matplotlib.pyplot as plt\n",
        "import cv2\n",
        "from PIL import Image\n",
        "import os\n",
        "\n",
        "from google.colab import drive\n",
        "drive.mount('/content/drive')\n"
      ]
    },
    {
      "cell_type": "markdown",
      "metadata": {
        "id": "kvn2o8EwtLNQ"
      },
      "source": [
        "Adding the images in."
      ]
    },
    {
      "cell_type": "code",
      "execution_count": 5,
      "metadata": {
        "colab": {
          "base_uri": "https://localhost:8080/"
        },
        "id": "Mvnhrf1fial5",
        "outputId": "ed9678bf-9cce-4151-b2b9-8fe074742e7a"
      },
      "outputs": [
        {
          "output_type": "stream",
          "name": "stdout",
          "text": [
            "Found 257 files belonging to 1 classes.\n",
            "Found 73 files belonging to 1 classes.\n"
          ]
        }
      ],
      "source": [
        "train_data = tf.keras.preprocessing.image_dataset_from_directory('/content/drive/My Drive/sample_data/Projects/Aircraft_Turbo_Defects/images/train',labels=None,image_size=(64,64),batch_size=32,color_mode='grayscale')\n",
        "test_data = tf.keras.preprocessing.image_dataset_from_directory('/content/drive/My Drive/sample_data/Projects/Aircraft_Turbo_Defects/images/val',labels=None,image_size=(64,64), batch_size=32,color_mode='grayscale')"
      ]
    },
    {
      "cell_type": "code",
      "execution_count": 6,
      "metadata": {
        "colab": {
          "base_uri": "https://localhost:8080/",
          "height": 305
        },
        "id": "g__nD33ckkJO",
        "outputId": "282f244c-2648-401b-b310-68cea767759f"
      },
      "outputs": [
        {
          "output_type": "display_data",
          "data": {
            "text/plain": [
              "<Figure size 2000x2000 with 4 Axes>"
            ],
            "image/png": "[encoded data removed]"
          },
          "metadata": {}
        }
      ],
      "source": [
        "train_data_iterator = train_data.as_numpy_iterator()\n",
        "batch = train_data_iterator.next()\n",
        "fig, ax = plt.subplots(ncols=4, figsize=(20,20))\n",
        "for idx, img in enumerate(batch[:4]):\n",
        "    ax[idx].imshow(img.astype(int))"
      ]
    },
    {
      "cell_type": "code",
      "execution_count": 7,
      "metadata": {
        "colab": {
          "base_uri": "https://localhost:8080/"
        },
        "id": "4eWk7laCrK-K",
        "outputId": "fffc50f1-c5d7-4e9b-ee22-b88c32eaba2e"
      },
      "outputs": [
        {
          "output_type": "stream",
          "name": "stdout",
          "text": [
            "Names of the train images: ['11_flip.jpg', '12.jpg', '12_3.jpg', '13_rot2.jpg', '12_rot3.jpg', '11_1.jpg', '10.jpg', '13.jpg', '12_1.jpg', '13_1.jpg', '13_rot1.jpg', '11_rot1.jpg', '13_2.jpg', '11_rot3.jpg', '13_4.jpg', '13_3.jpg', '10_rot1.jpg', '12_flip0.jpg', '12_rot2.jpg', '13_flip1.jpg', '12_2.jpg', '11_flip1.jpg', '11_2.jpg', '12_flip1.jpg', '1.jpg', '10_flip0.jpg', '11_flip0.jpg', '10_flip.jpg', '12_rot1.jpg', '13_rot3.jpg', '10_rot2.jpg', '13_flip.jpg', '13_flip0.jpg', '10_1.jpg', '12_flip.jpg', '11_rot2.jpg', '10_flip1.jpg', '10_rot3.jpg', '11.jpg', '15_2.jpg', '16_flip.jpg', '17_1.jpg', '18_rot2.jpg', '14.jpg', '18_flip0.jpg', '16_rot3.jpg', '16_rot1.jpg', '14_flip.jpg', '18_flip1.jpg', '15_1.jpg', '16_flip0.jpg', '18_2.jpg', '15_3.jpg', '14_rot1.jpg', '17.jpg', '14_flip1.jpg', '15_rot3.jpg', '17_rot2.jpg', '14_flip0.jpg', '17_4.jpg', '18_1.jpg', '14_rot3.jpg', '16.jpg', '15_flip.jpg', '17_3.jpg', '15_rot2.jpg', '15.jpg', '17_flip1.jpg', '17_flip0.jpg', '16_rot2.jpg', '17_rot3.jpg', '18_flip.jpg', '18_3.jpg', '15_flip0.jpg', '18_rot1.jpg', '14_1.jpg', '17_2.jpg', '16_flip1.jpg', '17_rot1.jpg', '15_rot1.jpg', '15_flip1.jpg', '17_flip.jpg', '18.jpg', '14_2.jpg', '14_3.jpg', '14_rot2.jpg', '2023-04-06 19-36-23-269.jpg', '2023-04-06 19-34-27-610.jpg', '20.jpg', '2023-04-06 19-36-30-341.jpg', '2023-04-06 19-35-46-600.jpg', '2023-04-06 19-35-18-940.jpg', '2023-04-06 19-31-07-258.jpg', '2023-04-06 19-32-17-764.jpg', '18_rot3.jpg', '2023-04-06 19-35-23-141.jpg', '2023-04-06 19-30-37-637.jpg', '2023-04-06 19-30-24-749.jpg', '19_flip1.jpg', '19_flip0.jpg', '2023-04-06 19-33-13-656.jpg', '2.jpg', '21_flip.jpg', '2023-04-06 19-34-41-053.jpg', '2023-04-06 19-32-53-240.jpg', '2023-04-06 19-30-33-675.jpg', '2023-04-06 19-34-37-457.jpg', '2023-04-06 19-31-26-828.jpg', '2023-04-06 19-36-03-068.jpg', '1_rot1.jpg', '2023-04-06 19-35-13-751.jpg', '2023-04-06 19-35-49-241.jpg', '2023-04-06 19-36-11-713.jpg', '2023-04-06 19-34-05-922.jpg', '2023-04-06 19-35-39-768.jpg', '20_rot3.jpg', '21_rot2.jpg', '21.jpg', '20_rot2.jpg', '19.jpg', '21_flip0.jpg', '2023-04-06 19-32-04-715.jpg', '20_flip.jpg', '2023-04-06 19-35-26-447.jpg', '19_flip.jpg', '2023-04-06 19-33-39-124.jpg', '2023-04-06 19-36-28-464.jpg', '20_flip1.jpg', '2023-04-06 19-35-32-937.jpg', '1_rot3.jpg', '19_rot3.jpg', '19_rot1.jpg', '2023-04-06 19-36-00-648.jpg', '20_rot1.jpg', '1_rot2.jpg', '2023-04-06 19-32-21-902.jpg', '2023-04-06 19-31-09-690.jpg', '2023-04-06 19-35-43-684.jpg', '21_rot3.jpg', '2023-04-06 19-32-02-398.jpg', '2023-04-06 19-31-13-975.jpg', '20_flip0.jpg', '2023-04-06 19-32-00-111.jpg', '1_flip0.jpg', '2023-04-06 19-31-45-823.jpg', '2023-04-06 19-34-57-663.jpg', '2023-04-06 19-34-32-225.jpg', '2023-04-06 19-30-40-910.jpg', '19_rot2.jpg', '21_flip1.jpg', '21_rot1.jpg', '2023-04-06 19-33-44-157.jpg', '1_flip1.jpg', '24_rot3.jpg', '23_flip0.jpg', '24_flip0.jpg', '2_flip.jpg', '24_flip.jpg', '23_flip.jpg', '26_rot1.jpg', '23_rot3.jpg', '25.jpg', '22_rot2.jpg', '25_flip.jpg', '25_rot3.jpg', '22.jpg', '23_flip1.jpg', '24_rot1.jpg', '26_flip1.jpg', '22_flip1.jpg', '26.jpg', '22_flip.jpg', '25_flip1.jpg', '23_rot1.jpg', '26_flip.jpg', '26_rot2.jpg', '25_rot1.jpg', '24_flip1.jpg', '26_flip0.jpg', '24_rot2.jpg', '25_rot2.jpg', '23.jpg', '25_flip0.jpg', '23_rot2.jpg', '22_rot1.jpg', '22_flip0.jpg', '24.jpg', '22_rot3.jpg', '26_rot3.jpg', '7.jpg', '7_1.jpg', '2_rot3.jpg', '2_flip1.jpg', '6_flip1.jpg', '3_1.jpg', '4_rot2.jpg', '4_rot3.jpg', '2_rot1.jpg', '4.jpg', '4_flip1.jpg', '3_rot2.jpg', '2_flip0.jpg', '2_rot2.jpg', '6_rot1.jpg', '3_flip1.jpg', '5_3.jpg', '4_3.jpg', '6_2.jpg', '6_rot2.jpg', '5_1.jpg', '5.jpg', '3.jpg', '6.jpg', '3_2.jpg', '3_rot1.jpg', '5_rot1.jpg', '5_flip1.jpg', '5_rot3.jpg', '6_1.jpg', '5_rot2.jpg', '3_flip.jpg', '6_rot3.jpg', '4_flip.jpg', '3_rot3.jpg', '7_flip.jpg', '4_rot1.jpg', '4_flip0.jpg', '6_flip.jpg', '6_flip0.jpg', '5_2.jpg', '3_flip0.jpg', '5_flip0.jpg', '5_flip.jpg', '8_flip0.jpg', '8_rot1.jpg', '9_rot3.jpg', '9_rot1.jpg', '7_rot3.jpg', '9_flip1.jpg', '7_rot1.jpg', '8_flip.jpg', '8_rot2.jpg', '9_flip.jpg', '7_flip1.jpg', '8_3.jpg', '9.jpg', '8_flip1.jpg', '8_2.jpg', '9_rot2.jpg', '9_2.jpg', '7_rot2.jpg', '7_flip0.jpg', '9_flip0.jpg', '8_rot3.jpg', '8.jpg', '8_1.jpg', '1_flip.jpg']\n",
            "Names of the validation images: ['21_1.jpg', '19.jpg', '18_1.jpg', '21_2.jpg', '1.jpg', '17_3.jpg', '12_1.jpg', '19_2.jpg', '11_2.jpg', '12_3.jpg', '13_4.jpg', '18.jpg', '14_2.jpg', '20.jpg', '19_1.jpg', '16.jpg', '2.jpg', '17_1.jpg', '11.jpg', '21.jpg', '21_3.jpg', '13_3.jpg', '13_1.jpg', '15.jpg', '15_3.jpg', '18_2.jpg', '18_3.jpg', '13.jpg', '17_4.jpg', '22.jpg', '20_2.jpg', '14_3.jpg', '15_2.jpg', '14.jpg', '17.jpg', '14_1.jpg', '15_1.jpg', '10_1.jpg', '13_2.jpg', '12.jpg', '20_1.jpg', '10.jpg', '11_1.jpg', '12_2.jpg', '17_2.jpg', '8_2.jpg', '4.jpg', '7.jpg', '8_3.jpg', '5_1.jpg', '6_2.jpg', '9.jpg', '6.jpg', '5_3.jpg', '8_1.jpg', '23_2.jpg', '7_1.jpg', '4_3.jpg', '8.jpg', '23.jpg', '24.jpg', '9_2.jpg', '3_1.jpg', '22_2.jpg', '3_2.jpg', '6_1.jpg', '25.jpg', '5.jpg', '26.jpg', '23_1.jpg', '22_1.jpg', '5_2.jpg', '3.jpg']\n"
          ]
        }
      ],
      "source": [
        "name_train = os.listdir('/content/drive/My Drive/sample_data/Projects/Aircraft_Turbo_Defects/images/train')\n",
        "name_val = os.listdir('/content/drive/My Drive/sample_data/Projects/Aircraft_Turbo_Defects/images/val')\n",
        "\n",
        "print(\"Names of the train images:\", name_train)\n",
        "print(\"Names of the validation images:\", name_val)"
      ]
    },
    {
      "cell_type": "markdown",
      "metadata": {
        "id": "5aJlYHdUtrA8"
      },
      "source": [
        "Reading the category and the location of the data in the labels file"
      ]
    },
    {
      "cell_type": "code",
      "execution_count": 35,
      "metadata": {
        "id": "sPgMZ7kOsuf6"
      },
      "outputs": [],
      "source": [
        "# Folder Path\n",
        "path_train = \"/content/drive/My Drive/sample_data/Projects/Aircraft_Turbo_Defects/labels/train\"\n",
        "label_train = os.listdir('/content/drive/My Drive/sample_data/Projects/Aircraft_Turbo_Defects/labels/train')\n",
        "label_val = os.listdir('/content/drive/My Drive/sample_data/Projects/Aircraft_Turbo_Defects/labels/val')\n",
        "images = []\n",
        "defect_type = []\n",
        "x1 = []\n",
        "y1 = []\n",
        "x2 = []\n",
        "y2 = []\n",
        "for name in label_train:\n",
        "  images.append(name)\n",
        "  text_file = open('/content/drive/My Drive/sample_data/Projects/Aircraft_Turbo_Defects/labels/train/'+name,'r')\n",
        "  t=t+1\n",
        "  line_list = text_file.readlines();\n",
        "  #for each line from the list, print the line\n",
        "  t = 0\n",
        "  for line in line_list:\n",
        "    #Read the values, which comes as a string, segregate it by the space and create a list\n",
        "    if t!=0:\n",
        "      images.append(name)\n",
        "    values = line.split(\" \")\n",
        "    defect_type.append(values[0])\n",
        "    x1.append(values[1])\n",
        "    y1.append(values[2])\n",
        "    x2.append(values[3])\n",
        "    y2.append(values[4])\n",
        "    t = t+1\n",
        "  text_file.close() #don't forget to close the file"
      ]
    },
    {
      "cell_type": "markdown",
      "source": [
        "Data Cleaning and Preparation"
      ],
      "metadata": {
        "id": "bkEUieFst0bX"
      }
    },
    {
      "cell_type": "code",
      "source": [
        "#Making sure all the lengths are the same\n",
        "print(len(images),len(defect_type),len(x1),len(y1),len(x2),len(y2))"
      ],
      "metadata": {
        "colab": {
          "base_uri": "https://localhost:8080/"
        },
        "id": "ay1DyqHIt2H7",
        "outputId": "e4471049-b13e-4219-d12b-0aeded9b22fe"
      },
      "execution_count": 36,
      "outputs": [
        {
          "output_type": "stream",
          "name": "stdout",
          "text": [
            "379 379 379 379 379 379\n"
          ]
        }
      ]
    },
    {
      "cell_type": "code",
      "source": [
        "df = pd.DataFrame(columns = ['Image','Defect_Type','x1','y1','x2','y2'])\n",
        "df.Image = images\n",
        "df.Defect_Type = defect_type\n",
        "df.x1 = x1\n",
        "df.x2 = x2\n",
        "df.y1 = y1\n",
        "df.y2 = y2\n",
        "df.y2 = df[\"y2\"].str.replace('\\n','')\n",
        "df.head()"
      ],
      "metadata": {
        "colab": {
          "base_uri": "https://localhost:8080/",
          "height": 206
        },
        "id": "k_jjxdLi8yJc",
        "outputId": "8996cef0-f544-43b0-c9fd-cbe3cd24623f"
      },
      "execution_count": 40,
      "outputs": [
        {
          "output_type": "execute_result",
          "data": {
            "text/plain": [
              "        Image Defect_Type        x1        y1        x2        y2\n",
              "0       3.txt           0  0.336091  0.492765  0.243873  0.245177\n",
              "1       3.txt           0  0.559589  0.510852  0.279105  0.405145\n",
              "2  7_rot2.txt           0  0.376685  0.521302  0.312806  0.060289\n",
              "3  7_rot2.txt           2  0.897978  0.271905  0.031250  0.069534\n",
              "4  4_rot3.txt           0  0.640876  0.554075  0.388666  0.174326"
            ],
            "text/html": [
              "\n",
              "  <div id=\"df-263f0daf-bfdc-4d66-b14c-1762e2607e6e\" class=\"colab-df-container\">\n",
              "    <div>\n",
              "<style scoped>\n",
              "    .dataframe tbody tr th:only-of-type {\n",
              "        vertical-align: middle;\n",
              "    }\n",
              "\n",
              "    .dataframe tbody tr th {\n",
              "        vertical-align: top;\n",
              "    }\n",
              "\n",
              "    .dataframe thead th {\n",
              "        text-align: right;\n",
              "    }\n",
              "</style>\n",
              "<table border=\"1\" class=\"dataframe\">\n",
              "  <thead>\n",
              "    <tr style=\"text-align: right;\">\n",
              "      <th></th>\n",
              "      <th>Image</th>\n",
              "      <th>Defect_Type</th>\n",
              "      <th>x1</th>\n",
              "      <th>y1</th>\n",
              "      <th>x2</th>\n",
              "      <th>y2</th>\n",
              "    </tr>\n",
              "  </thead>\n",
              "  <tbody>\n",
              "    <tr>\n",
              "      <th>0</th>\n",
              "      <td>3.txt</td>\n",
              "      <td>0</td>\n",
              "      <td>0.336091</td>\n",
              "      <td>0.492765</td>\n",
              "      <td>0.243873</td>\n",
              "      <td>0.245177</td>\n",
              "    </tr>\n",
              "    <tr>\n",
              "      <th>1</th>\n",
              "      <td>3.txt</td>\n",
              "      <td>0</td>\n",
              "      <td>0.559589</td>\n",
              "      <td>0.510852</td>\n",
              "      <td>0.279105</td>\n",
              "      <td>0.405145</td>\n",
              "    </tr>\n",
              "    <tr>\n",
              "      <th>2</th>\n",
              "      <td>7_rot2.txt</td>\n",
              "      <td>0</td>\n",
              "      <td>0.376685</td>\n",
              "      <td>0.521302</td>\n",
              "      <td>0.312806</td>\n",
              "      <td>0.060289</td>\n",
              "    </tr>\n",
              "    <tr>\n",
              "      <th>3</th>\n",
              "      <td>7_rot2.txt</td>\n",
              "      <td>2</td>\n",
              "      <td>0.897978</td>\n",
              "      <td>0.271905</td>\n",
              "      <td>0.031250</td>\n",
              "      <td>0.069534</td>\n",
              "    </tr>\n",
              "    <tr>\n",
              "      <th>4</th>\n",
              "      <td>4_rot3.txt</td>\n",
              "      <td>0</td>\n",
              "      <td>0.640876</td>\n",
              "      <td>0.554075</td>\n",
              "      <td>0.388666</td>\n",
              "      <td>0.174326</td>\n",
              "    </tr>\n",
              "  </tbody>\n",
              "</table>\n",
              "</div>\n",
              "    <div class=\"colab-df-buttons\">\n",
              "\n",
              "  <div class=\"colab-df-container\">\n",
              "    <button class=\"colab-df-convert\" onclick=\"convertToInteractive('df-263f0daf-bfdc-4d66-b14c-1762e2607e6e')\"\n",
              "            title=\"Convert this dataframe to an interactive table.\"\n",
              "            style=\"display:none;\">\n",
              "\n",
              "  <svg xmlns=\"http://www.w3.org/2000/svg\" height=\"24px\" viewBox=\"0 -960 960 960\">\n",
              "    <path d=\"M120-120v-720h720v720H120Zm60-500h600v-160H180v160Zm220 220h160v-160H400v160Zm0 220h160v-160H400v160ZM180-400h160v-160H180v160Zm440 0h160v-160H620v160ZM180-180h160v-160H180v160Zm440 0h160v-160H620v160Z\"/>\n",
              "  </svg>\n",
              "    </button>\n",
              "\n",
              "  <style>\n",
              "    .colab-df-container {\n",
              "      display:flex;\n",
              "      gap: 12px;\n",
              "    }\n",
              "\n",
              "    .colab-df-convert {\n",
              "      background-color: #E8F0FE;\n",
              "      border: none;\n",
              "      border-radius: 50%;\n",
              "      cursor: pointer;\n",
              "      display: none;\n",
              "      fill: #1967D2;\n",
              "      height: 32px;\n",
              "      padding: 0 0 0 0;\n",
              "      width: 32px;\n",
              "    }\n",
              "\n",
              "    .colab-df-convert:hover {\n",
              "      background-color: #E2EBFA;\n",
              "      box-shadow: 0px 1px 2px rgba(60, 64, 67, 0.3), 0px 1px 3px 1px rgba(60, 64, 67, 0.15);\n",
              "      fill: #174EA6;\n",
              "    }\n",
              "\n",
              "    .colab-df-buttons div {\n",
              "      margin-bottom: 4px;\n",
              "    }\n",
              "\n",
              "    [theme=dark] .colab-df-convert {\n",
              "      background-color: #3B4455;\n",
              "      fill: #D2E3FC;\n",
              "    }\n",
              "\n",
              "    [theme=dark] .colab-df-convert:hover {\n",
              "      background-color: #434B5C;\n",
              "      box-shadow: 0px 1px 3px 1px rgba(0, 0, 0, 0.15);\n",
              "      filter: drop-shadow(0px 1px 2px rgba(0, 0, 0, 0.3));\n",
              "      fill: #FFFFFF;\n",
              "    }\n",
              "  </style>\n",
              "\n",
              "    <script>\n",
              "      const buttonEl =\n",
              "        document.querySelector('#df-263f0daf-bfdc-4d66-b14c-1762e2607e6e button.colab-df-convert');\n",
              "      buttonEl.style.display =\n",
              "        google.colab.kernel.accessAllowed ? 'block' : 'none';\n",
              "\n",
              "      async function convertToInteractive(key) {\n",
              "        const element = document.querySelector('#df-263f0daf-bfdc-4d66-b14c-1762e2607e6e');\n",
              "        const dataTable =\n",
              "          await google.colab.kernel.invokeFunction('convertToInteractive',\n",
              "                                                    [key], {});\n",
              "        if (!dataTable) return;\n",
              "\n",
              "        const docLinkHtml = 'Like what you see? Visit the ' +\n",
              "          '<a target=\"_blank\" href=https://colab.research.google.com/notebooks/data_table.ipynb>data table notebook</a>'\n",
              "          + ' to learn more about interactive tables.';\n",
              "        element.innerHTML = '';\n",
              "        dataTable['output_type'] = 'display_data';\n",
              "        await google.colab.output.renderOutput(dataTable, element);\n",
              "        const docLink = document.createElement('div');\n",
              "        docLink.innerHTML = docLinkHtml;\n",
              "        element.appendChild(docLink);\n",
              "      }\n",
              "    </script>\n",
              "  </div>\n",
              "\n",
              "\n",
              "<div id=\"df-db58c771-fd0b-45c2-849a-6b9c8ae61d70\">\n",
              "  <button class=\"colab-df-quickchart\" onclick=\"quickchart('df-db58c771-fd0b-45c2-849a-6b9c8ae61d70')\"\n",
              "            title=\"Suggest charts\"\n",
              "            style=\"display:none;\">\n",
              "\n",
              "<svg xmlns=\"http://www.w3.org/2000/svg\" height=\"24px\"viewBox=\"0 0 24 24\"\n",
              "     width=\"24px\">\n",
              "    <g>\n",
              "        <path d=\"M19 3H5c-1.1 0-2 .9-2 2v14c0 1.1.9 2 2 2h14c1.1 0 2-.9 2-2V5c0-1.1-.9-2-2-2zM9 17H7v-7h2v7zm4 0h-2V7h2v10zm4 0h-2v-4h2v4z\"/>\n",
              "    </g>\n",
              "</svg>\n",
              "  </button>\n",
              "\n",
              "<style>\n",
              "  .colab-df-quickchart {\n",
              "      --bg-color: #E8F0FE;\n",
              "      --fill-color: #1967D2;\n",
              "      --hover-bg-color: #E2EBFA;\n",
              "      --hover-fill-color: #174EA6;\n",
              "      --disabled-fill-color: #AAA;\n",
              "      --disabled-bg-color: #DDD;\n",
              "  }\n",
              "\n",
              "  [theme=dark] .colab-df-quickchart {\n",
              "      --bg-color: #3B4455;\n",
              "      --fill-color: #D2E3FC;\n",
              "      --hover-bg-color: #434B5C;\n",
              "      --hover-fill-color: #FFFFFF;\n",
              "      --disabled-bg-color: #3B4455;\n",
              "      --disabled-fill-color: #666;\n",
              "  }\n",
              "\n",
              "  .colab-df-quickchart {\n",
              "    background-color: var(--bg-color);\n",
              "    border: none;\n",
              "    border-radius: 50%;\n",
              "    cursor: pointer;\n",
              "    display: none;\n",
              "    fill: var(--fill-color);\n",
              "    height: 32px;\n",
              "    padding: 0;\n",
              "    width: 32px;\n",
              "  }\n",
              "\n",
              "  .colab-df-quickchart:hover {\n",
              "    background-color: var(--hover-bg-color);\n",
              "    box-shadow: 0 1px 2px rgba(60, 64, 67, 0.3), 0 1px 3px 1px rgba(60, 64, 67, 0.15);\n",
              "    fill: var(--button-hover-fill-color);\n",
              "  }\n",
              "\n",
              "  .colab-df-quickchart-complete:disabled,\n",
              "  .colab-df-quickchart-complete:disabled:hover {\n",
              "    background-color: var(--disabled-bg-color);\n",
              "    fill: var(--disabled-fill-color);\n",
              "    box-shadow: none;\n",
              "  }\n",
              "\n",
              "  .colab-df-spinner {\n",
              "    border: 2px solid var(--fill-color);\n",
              "    border-color: transparent;\n",
              "    border-bottom-color: var(--fill-color);\n",
              "    animation:\n",
              "      spin 1s steps(1) infinite;\n",
              "  }\n",
              "\n",
              "  @keyframes spin {\n",
              "    0% {\n",
              "      border-color: transparent;\n",
              "      border-bottom-color: var(--fill-color);\n",
              "      border-left-color: var(--fill-color);\n",
              "    }\n",
              "    20% {\n",
              "      border-color: transparent;\n",
              "      border-left-color: var(--fill-color);\n",
              "      border-top-color: var(--fill-color);\n",
              "    }\n",
              "    30% {\n",
              "      border-color: transparent;\n",
              "      border-left-color: var(--fill-color);\n",
              "      border-top-color: var(--fill-color);\n",
              "      border-right-color: var(--fill-color);\n",
              "    }\n",
              "    40% {\n",
              "      border-color: transparent;\n",
              "      border-right-color: var(--fill-color);\n",
              "      border-top-color: var(--fill-color);\n",
              "    }\n",
              "    60% {\n",
              "      border-color: transparent;\n",
              "      border-right-color: var(--fill-color);\n",
              "    }\n",
              "    80% {\n",
              "      border-color: transparent;\n",
              "      border-right-color: var(--fill-color);\n",
              "      border-bottom-color: var(--fill-color);\n",
              "    }\n",
              "    90% {\n",
              "      border-color: transparent;\n",
              "      border-bottom-color: var(--fill-color);\n",
              "    }\n",
              "  }\n",
              "</style>\n",
              "\n",
              "  <script>\n",
              "    async function quickchart(key) {\n",
              "      const quickchartButtonEl =\n",
              "        document.querySelector('#' + key + ' button');\n",
              "      quickchartButtonEl.disabled = true;  // To prevent multiple clicks.\n",
              "      quickchartButtonEl.classList.add('colab-df-spinner');\n",
              "      try {\n",
              "        const charts = await google.colab.kernel.invokeFunction(\n",
              "            'suggestCharts', [key], {});\n",
              "      } catch (error) {\n",
              "        console.error('Error during call to suggestCharts:', error);\n",
              "      }\n",
              "      quickchartButtonEl.classList.remove('colab-df-spinner');\n",
              "      quickchartButtonEl.classList.add('colab-df-quickchart-complete');\n",
              "    }\n",
              "    (() => {\n",
              "      let quickchartButtonEl =\n",
              "        document.querySelector('#df-db58c771-fd0b-45c2-849a-6b9c8ae61d70 button');\n",
              "      quickchartButtonEl.style.display =\n",
              "        google.colab.kernel.accessAllowed ? 'block' : 'none';\n",
              "    })();\n",
              "  </script>\n",
              "</div>\n",
              "    </div>\n",
              "  </div>\n"
            ],
            "application/vnd.google.colaboratory.intrinsic+json": {
              "type": "dataframe",
              "variable_name": "df",
              "summary": "{\n  \"name\": \"df\",\n  \"rows\": 379,\n  \"fields\": [\n    {\n      \"column\": \"Image\",\n      \"properties\": {\n        \"dtype\": \"string\",\n        \"num_unique_values\": 240,\n        \"samples\": [\n          \"2023-04-06 19-34-41-053.txt\",\n          \"14_rot3.txt\",\n          \"3_1.txt\"\n        ],\n        \"semantic_type\": \"\",\n        \"description\": \"\"\n      }\n    },\n    {\n      \"column\": \"Defect_Type\",\n      \"properties\": {\n        \"dtype\": \"category\",\n        \"num_unique_values\": 4,\n        \"samples\": [\n          \"2\",\n          \"1\",\n          \"0\"\n        ],\n        \"semantic_type\": \"\",\n        \"description\": \"\"\n      }\n    },\n    {\n      \"column\": \"x1\",\n      \"properties\": {\n        \"dtype\": \"string\",\n        \"num_unique_values\": 367,\n        \"samples\": [\n          \"0.814645\",\n          \"0.462163\",\n          \"0.289511\"\n        ],\n        \"semantic_type\": \"\",\n        \"description\": \"\"\n      }\n    },\n    {\n      \"column\": \"y1\",\n      \"properties\": {\n        \"dtype\": \"string\",\n        \"num_unique_values\": 371,\n        \"samples\": [\n          \"0.458487\",\n          \"0.261254\",\n          \"0.685478\"\n        ],\n        \"semantic_type\": \"\",\n        \"description\": \"\"\n      }\n    },\n    {\n      \"column\": \"x2\",\n      \"properties\": {\n        \"dtype\": \"string\",\n        \"num_unique_values\": 345,\n        \"samples\": [\n          \"0.164389\",\n          \"0.210172\",\n          \"0.081897\"\n        ],\n        \"semantic_type\": \"\",\n        \"description\": \"\"\n      }\n    },\n    {\n      \"column\": \"y2\",\n      \"properties\": {\n        \"dtype\": \"string\",\n        \"num_unique_values\": 340,\n        \"samples\": [\n          \"0.392685\",\n          \"0.230707\",\n          \"0.303457\"\n        ],\n        \"semantic_type\": \"\",\n        \"description\": \"\"\n      }\n    }\n  ]\n}"
            }
          },
          "metadata": {},
          "execution_count": 40
        }
      ]
    }
  ],
  "metadata": {
    "colab": {
      "provenance": [],
      "authorship_tag": "ABX9TyMvHw1fPhfJHRp1VRTlT058",
      "include_colab_link": true
    },
    "kernelspec": {
      "display_name": "Python 3",
      "name": "python3"
    },
    "language_info": {
      "name": "python"
    }
  },
  "nbformat": 4,
  "nbformat_minor": 0
}